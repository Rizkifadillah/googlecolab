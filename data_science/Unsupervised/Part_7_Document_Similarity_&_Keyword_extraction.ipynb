{
  "nbformat": 4,
  "nbformat_minor": 0,
  "metadata": {
    "colab": {
      "provenance": [],
      "mount_file_id": "1Dbvjy7VxkR7a_x2DkBpOiVfpLMIjbP7L",
      "authorship_tag": "ABX9TyOtmjOSsxXCt9BPh8AeVhRG",
      "include_colab_link": true
    },
    "kernelspec": {
      "name": "python3",
      "display_name": "Python 3"
    },
    "language_info": {
      "name": "python"
    }
  },
  "cells": [
    {
      "cell_type": "markdown",
      "metadata": {
        "id": "view-in-github",
        "colab_type": "text"
      },
      "source": [
        "<a href=\"https://colab.research.google.com/github/Rizkifadillah/googlecolab/blob/main/data_science/Unsupervised/Part_7_Document_Similarity_%26_Keyword_extraction.ipynb\" target=\"_parent\"><img src=\"https://colab.research.google.com/assets/colab-badge.svg\" alt=\"Open In Colab\"/></a>"
      ]
    },
    {
      "cell_type": "code",
      "execution_count": null,
      "metadata": {
        "colab": {
          "base_uri": "https://localhost:8080/"
        },
        "id": "7VBoBZLLU0pR",
        "outputId": "c7ed6ec3-a2b1-4ba5-86d8-a7f26f771bb5"
      },
      "outputs": [
        {
          "output_type": "stream",
          "name": "stderr",
          "text": [
            "[nltk_data] Downloading package stopwords to /root/nltk_data...\n",
            "[nltk_data]   Unzipping corpora/stopwords.zip.\n",
            "[nltk_data] Downloading package punkt to /root/nltk_data...\n",
            "[nltk_data]   Unzipping tokenizers/punkt.zip.\n"
          ]
        },
        {
          "output_type": "execute_result",
          "data": {
            "text/plain": [
              "True"
            ]
          },
          "metadata": {},
          "execution_count": 1
        }
      ],
      "source": [
        "import nltk\n",
        "nltk.download(\"stopwords\")\n",
        "nltk.download(\"punkt\")"
      ]
    },
    {
      "cell_type": "code",
      "source": [
        "import pandas as pd\n",
        "from nltk.tokenize import word_tokenize\n",
        "from nltk.corpus import stopwords\n",
        "from string import punctuation\n",
        "\n",
        "sw_indo = stopwords.words(\"indonesian\") + list(punctuation)"
      ],
      "metadata": {
        "id": "cuWSMNcYVT-P"
      },
      "execution_count": null,
      "outputs": []
    },
    {
      "cell_type": "markdown",
      "source": [
        "# Import Data"
      ],
      "metadata": {
        "id": "UrWt8ci9Vo3K"
      }
    },
    {
      "cell_type": "markdown",
      "source": [
        "NLP"
      ],
      "metadata": {
        "id": "TCSxnvNfVsUV"
      }
    },
    {
      "cell_type": "code",
      "source": [
        "df = pd.read_csv('/content/drive/MyDrive/course_ipynb/Unstructured_Data/kompas.csv')"
      ],
      "metadata": {
        "id": "VAxIBrScVrDi"
      },
      "execution_count": null,
      "outputs": []
    },
    {
      "cell_type": "code",
      "source": [
        "df.sample(5)"
      ],
      "metadata": {
        "colab": {
          "base_uri": "https://localhost:8080/",
          "height": 206
        },
        "id": "Lvy_8HvNV-lR",
        "outputId": "aa1d4a43-4186-4879-c2e6-78b73c21d30a"
      },
      "execution_count": null,
      "outputs": [
        {
          "output_type": "execute_result",
          "data": {
            "text/plain": [
              "                                                   teks\n",
              "1075  Argentina Menaklukkan Jerman\\n\\nJuara dunia du...\n",
              "1903  Dalam Kasus Kecelakaan KA di Brebes   Polisi P...\n",
              "1369  \"Reserse\" Polda Metro Jaya Peras Empat Warga H...\n",
              "1382  Perampok Berpistol Gasak Rp 2,5 Milyar\\n\\nLebi...\n",
              "1986  Malaysia Segera Deportasi 30.000 Imigran\\n\\nOt..."
            ],
            "text/html": [
              "\n",
              "  <div id=\"df-17b87576-f7c9-42a1-8ca8-93e33eac8663\">\n",
              "    <div class=\"colab-df-container\">\n",
              "      <div>\n",
              "<style scoped>\n",
              "    .dataframe tbody tr th:only-of-type {\n",
              "        vertical-align: middle;\n",
              "    }\n",
              "\n",
              "    .dataframe tbody tr th {\n",
              "        vertical-align: top;\n",
              "    }\n",
              "\n",
              "    .dataframe thead th {\n",
              "        text-align: right;\n",
              "    }\n",
              "</style>\n",
              "<table border=\"1\" class=\"dataframe\">\n",
              "  <thead>\n",
              "    <tr style=\"text-align: right;\">\n",
              "      <th></th>\n",
              "      <th>teks</th>\n",
              "    </tr>\n",
              "  </thead>\n",
              "  <tbody>\n",
              "    <tr>\n",
              "      <th>1075</th>\n",
              "      <td>Argentina Menaklukkan Jerman\\n\\nJuara dunia du...</td>\n",
              "    </tr>\n",
              "    <tr>\n",
              "      <th>1903</th>\n",
              "      <td>Dalam Kasus Kecelakaan KA di Brebes   Polisi P...</td>\n",
              "    </tr>\n",
              "    <tr>\n",
              "      <th>1369</th>\n",
              "      <td>\"Reserse\" Polda Metro Jaya Peras Empat Warga H...</td>\n",
              "    </tr>\n",
              "    <tr>\n",
              "      <th>1382</th>\n",
              "      <td>Perampok Berpistol Gasak Rp 2,5 Milyar\\n\\nLebi...</td>\n",
              "    </tr>\n",
              "    <tr>\n",
              "      <th>1986</th>\n",
              "      <td>Malaysia Segera Deportasi 30.000 Imigran\\n\\nOt...</td>\n",
              "    </tr>\n",
              "  </tbody>\n",
              "</table>\n",
              "</div>\n",
              "      <button class=\"colab-df-convert\" onclick=\"convertToInteractive('df-17b87576-f7c9-42a1-8ca8-93e33eac8663')\"\n",
              "              title=\"Convert this dataframe to an interactive table.\"\n",
              "              style=\"display:none;\">\n",
              "        \n",
              "  <svg xmlns=\"http://www.w3.org/2000/svg\" height=\"24px\"viewBox=\"0 0 24 24\"\n",
              "       width=\"24px\">\n",
              "    <path d=\"M0 0h24v24H0V0z\" fill=\"none\"/>\n",
              "    <path d=\"M18.56 5.44l.94 2.06.94-2.06 2.06-.94-2.06-.94-.94-2.06-.94 2.06-2.06.94zm-11 1L8.5 8.5l.94-2.06 2.06-.94-2.06-.94L8.5 2.5l-.94 2.06-2.06.94zm10 10l.94 2.06.94-2.06 2.06-.94-2.06-.94-.94-2.06-.94 2.06-2.06.94z\"/><path d=\"M17.41 7.96l-1.37-1.37c-.4-.4-.92-.59-1.43-.59-.52 0-1.04.2-1.43.59L10.3 9.45l-7.72 7.72c-.78.78-.78 2.05 0 2.83L4 21.41c.39.39.9.59 1.41.59.51 0 1.02-.2 1.41-.59l7.78-7.78 2.81-2.81c.8-.78.8-2.07 0-2.86zM5.41 20L4 18.59l7.72-7.72 1.47 1.35L5.41 20z\"/>\n",
              "  </svg>\n",
              "      </button>\n",
              "      \n",
              "  <style>\n",
              "    .colab-df-container {\n",
              "      display:flex;\n",
              "      flex-wrap:wrap;\n",
              "      gap: 12px;\n",
              "    }\n",
              "\n",
              "    .colab-df-convert {\n",
              "      background-color: #E8F0FE;\n",
              "      border: none;\n",
              "      border-radius: 50%;\n",
              "      cursor: pointer;\n",
              "      display: none;\n",
              "      fill: #1967D2;\n",
              "      height: 32px;\n",
              "      padding: 0 0 0 0;\n",
              "      width: 32px;\n",
              "    }\n",
              "\n",
              "    .colab-df-convert:hover {\n",
              "      background-color: #E2EBFA;\n",
              "      box-shadow: 0px 1px 2px rgba(60, 64, 67, 0.3), 0px 1px 3px 1px rgba(60, 64, 67, 0.15);\n",
              "      fill: #174EA6;\n",
              "    }\n",
              "\n",
              "    [theme=dark] .colab-df-convert {\n",
              "      background-color: #3B4455;\n",
              "      fill: #D2E3FC;\n",
              "    }\n",
              "\n",
              "    [theme=dark] .colab-df-convert:hover {\n",
              "      background-color: #434B5C;\n",
              "      box-shadow: 0px 1px 3px 1px rgba(0, 0, 0, 0.15);\n",
              "      filter: drop-shadow(0px 1px 2px rgba(0, 0, 0, 0.3));\n",
              "      fill: #FFFFFF;\n",
              "    }\n",
              "  </style>\n",
              "\n",
              "      <script>\n",
              "        const buttonEl =\n",
              "          document.querySelector('#df-17b87576-f7c9-42a1-8ca8-93e33eac8663 button.colab-df-convert');\n",
              "        buttonEl.style.display =\n",
              "          google.colab.kernel.accessAllowed ? 'block' : 'none';\n",
              "\n",
              "        async function convertToInteractive(key) {\n",
              "          const element = document.querySelector('#df-17b87576-f7c9-42a1-8ca8-93e33eac8663');\n",
              "          const dataTable =\n",
              "            await google.colab.kernel.invokeFunction('convertToInteractive',\n",
              "                                                     [key], {});\n",
              "          if (!dataTable) return;\n",
              "\n",
              "          const docLinkHtml = 'Like what you see? Visit the ' +\n",
              "            '<a target=\"_blank\" href=https://colab.research.google.com/notebooks/data_table.ipynb>data table notebook</a>'\n",
              "            + ' to learn more about interactive tables.';\n",
              "          element.innerHTML = '';\n",
              "          dataTable['output_type'] = 'display_data';\n",
              "          await google.colab.output.renderOutput(dataTable, element);\n",
              "          const docLink = document.createElement('div');\n",
              "          docLink.innerHTML = docLinkHtml;\n",
              "          element.appendChild(docLink);\n",
              "        }\n",
              "      </script>\n",
              "    </div>\n",
              "  </div>\n",
              "  "
            ]
          },
          "metadata": {},
          "execution_count": 6
        }
      ]
    },
    {
      "cell_type": "markdown",
      "source": [
        "# Extract TFIDF"
      ],
      "metadata": {
        "id": "jwnsDlECWiHF"
      }
    },
    {
      "cell_type": "code",
      "source": [
        "from sklearn.feature_extraction.text import TfidfVectorizer"
      ],
      "metadata": {
        "id": "dHM7iDDNWl0I"
      },
      "execution_count": null,
      "outputs": []
    },
    {
      "cell_type": "code",
      "source": [
        "tfidf = TfidfVectorizer(ngram_range=(1,2), tokenizer=word_tokenize, stop_words=sw_indo)\n",
        "tfidf_matrix = tfidf.fit_transform(df.teks)"
      ],
      "metadata": {
        "colab": {
          "base_uri": "https://localhost:8080/"
        },
        "id": "_fTq-A2uWxea",
        "outputId": "79b64043-7cfc-4a3a-83a6-1a5bd63f2c3c"
      },
      "execution_count": null,
      "outputs": [
        {
          "output_type": "stream",
          "name": "stderr",
          "text": [
            "/usr/local/lib/python3.9/dist-packages/sklearn/feature_extraction/text.py:528: UserWarning: The parameter 'token_pattern' will not be used since 'tokenizer' is not None'\n",
            "  warnings.warn(\n",
            "/usr/local/lib/python3.9/dist-packages/sklearn/feature_extraction/text.py:409: UserWarning: Your stop_words may be inconsistent with your preprocessing. Tokenizing the stop words generated tokens ['``'] not in stop_words.\n",
            "  warnings.warn(\n"
          ]
        }
      ]
    },
    {
      "cell_type": "markdown",
      "source": [
        "# TFIDF Similarity ---*untuk mendapatkan*--> Document Similarity"
      ],
      "metadata": {
        "id": "NxTQjx5NXX1s"
      }
    },
    {
      "cell_type": "code",
      "source": [
        "from sklearn.metrics.pairwise import cosine_similarity"
      ],
      "metadata": {
        "id": "ZH4w4VeGXj8S"
      },
      "execution_count": null,
      "outputs": []
    },
    {
      "cell_type": "code",
      "source": [
        "sim = cosine_similarity(tfidf_matrix[0], tfidf_matrix)\n",
        "sim"
      ],
      "metadata": {
        "colab": {
          "base_uri": "https://localhost:8080/"
        },
        "id": "Y6UphviKXR43",
        "outputId": "8a6ce4f3-2e4d-4f8c-843e-2577d754a283"
      },
      "execution_count": null,
      "outputs": [
        {
          "output_type": "execute_result",
          "data": {
            "text/plain": [
              "array([[1.        , 0.00858328, 0.01060043, ..., 0.00856287, 0.00677808,\n",
              "        0.01513341]])"
            ]
          },
          "metadata": {},
          "execution_count": 12
        }
      ]
    },
    {
      "cell_type": "code",
      "source": [
        "# sorting\n",
        "sim.argsort()"
      ],
      "metadata": {
        "colab": {
          "base_uri": "https://localhost:8080/"
        },
        "id": "6zdAxi_ce8m_",
        "outputId": "85311610-2c86-4cc8-ae4c-cfb3d144be7a"
      },
      "execution_count": null,
      "outputs": [
        {
          "output_type": "execute_result",
          "data": {
            "text/plain": [
              "array([[ 932, 1131, 1593, ...,  215,  144,    0]])"
            ]
          },
          "metadata": {},
          "execution_count": 13
        }
      ]
    },
    {
      "cell_type": "code",
      "source": [
        "df.teks[215]"
      ],
      "metadata": {
        "colab": {
          "base_uri": "https://localhost:8080/",
          "height": 165
        },
        "id": "GRMpmSd9fGYu",
        "outputId": "b04b9ac2-696b-4107-8e17-f018708467da"
      },
      "execution_count": null,
      "outputs": [
        {
          "output_type": "execute_result",
          "data": {
            "text/plain": [
              "'Kuasa Hukum Ginandjar Bertahan di Rutan\\nSejumlah kuasa hukum Ginandjar Kartasasmita hingga hari Selasa (17/4) pukul 22.00 masih bertahan di ruang tahanan (rutan) Kejaksaan Agung (Kejagung). Selasa pagi, mereka mengirimkan surat resmi kepada Kejagung, yang isinya meminta Kejagung untuk menghormati putusan pengadilan. Penahanan terhadap politisi Partai Golkar itu dinilai sudah tidak mempunyai landasan hukum.  Sebaliknya, Kepala Pusat Penerangan Hukum Kejaksaan Agung Moeljohardjo tetap berpendapat bahwa penahanan mantan Menteri Pertambangan dan Energi pada era Presiden Soeharto itu sah dan sesuai hukum. Dasar hukumnya adalah Surat Perintah Penahanan tanggal 31 Maret 2001 yang mengacu pada Undang-Undang Nomor 3 Tahun 1971 tentang Tindak Pidana Korupsi.  Hakim tunggal Rusman Dani Achmad dalam putusannya menyebutkan, menerima permohonan pemohon (Ginandjar) untuk sebagian. Dan kedua menyatakan, tindakan termohon (Jaksa Agung) melakukan penyidikan, penahanan, dan pembantaran dalam perkara Ginandjar sebelum tanggal 9 April 2001 adalah tidak sah.  Ginandjar, yang juga Wakil Ketua MPR, dituduh melakukan korupsi dalam kasus Technical Assistance Contract (TAC) antara Pertamina dan PT Ustraindo Petro Gas. Selain Ginandjar, tersangka lainnya adalah IB Sudjana, Faisal Abda\\'oe, dan Praptono H Upoyo. IB Sudjana tidak ditahan dalam kasus korupsi ini.  Putusan hakim Rusman itu mendapat kritik dari praktisi hukum Todung Mulya Lubis dan aktivis LSM, Hendardi. Keduanya menilai, putusan itu tetap mengukuhkan posisi militer yang melakukan tindak pidana di tempat yang istimewa dan tak bisa diadili dan diperiksa secara sipil.    Bertahan   Salah seorang kuasa hukum Ginandjar, Muchyar Yara mengemukakan, tim kuasa hukum dari Badan Pembinaan Hukum TNI (Babinkum) dan advokat profesional serta beberapa kerabat Ginandjar, bertekad akan bertahan di rutan Kejagung sampai Ginandjar dibebaskan.  \"Kami ke sini bukan untuk menengok Pak Ginandjar karena Pak Ginandjar bukan tahanan. Saya ingin menemani Pak Ginandjar sampai beliau dibebaskan,\" kata Muchyar, yang juga Wakil Sekjen Partai Golkar. Ginandjar adalah salah seorang anggota Dewan Penasihat Golkar.  Selain Muchyar, tampak OC Kaligis dan tiga orang dari Babinkum TNI. \"Jumlahnya ada sebelas orang,\" ujar Muchyar melalui telepon. \"Kita berdesak-desakan di sini tidak ada masalah,\" tambahnya. Ruang tahanan Ginandjar berukuran empat kali empat meter.  Kepala Pusat Penerangan Hukum Kejaksaan Agung Muljohardjo mengemukakan, yang diperbolehkan menempati ruang tahanan adalah mereka yang ditahan. Jika pengacara Ginandjar tetap bertahan meski sudah diminta ke luar, maka kepada yang bersangkutan bisa dilakukan upaya paksa. \"Secara normatif hal seperti itu merupakan pembangkangan,\" kata Muljohardjo.   Pada Selasa dini hari, tiga kuasa hukum Ginandjar sudah berada di ruang tahanan Ginandjar. Kejagung terpaksa mengizinkan Muchyar Yara, Kolonel (CHK) Payaman Pangaribuan, dan Kolonel (CHK) Suhaimir menemani Ginandjar setelah mereka menyatakan tidak akan meninggalkan rutan Kejagung sampai kliennya \"dibebaskan\".   Meski Kejagung minta bantuan Pomdam Jaya yang akhirnya menurunkan empat Polisi Militer untuk meminta agar para kuasa hukum Ginandjar meninggalkan rutan Kejagung, mereka tetap tidak mau meninggalkan rutan Kejagung. Pomdam Jaya menilai aksi para kuasa hukum Ginandjar tersebut tidak benar.    Permohonan resmi   Kuasa hukum Ginandjar, kemarin, menemui Jaksa Agung Muda Bidang Tindak Pidana Khusus Bachtiar Fachry Nasution untuk menyampaikan surat permohonan resmi agar Kejagung melaksanakan putusan hakim praperadilan Pengadilan Negeri Jakarta Selatan (PN Jaksel), Rusman Dani Achmad, yang menyatakan bahwa tindakan termohon (Jaksa Agung) melakukan penyidikan, penahanan, dan pembantaran dalam kasus perkara pemohon (Ginandjar) sebelum tanggal 9 April 2001 adalah tidak sah.   \"Hari ini (Selasa) pihak kejaksaan dan kami telah mendapatkan salinan putusan secara lengkap. Dengan bahan-bahan ini kami langsung menghadap Pak Fachry dan menjelaskan bahwa setelah kami pelajari dan cermati sedemikian rupa pertimbangan yang dijadikan dasar putusan pengadilan negeri, penahanan Pak Ginandjar secara tegas dan jelas telah dinyatakan tidak sah. Jadi, penahanan Pak Ginandjar hingga sampai saat ini sudah tidak ada lagi dasarnya. Ini merupakan perampasan kemerdekaan,\" kata Mohammad Assegaf, salah seorang kuasa hukum Ginandjar.   Dikatakan Assegaf, kalimat dalam diktum keputusan yang berbunyi \"sebelum tanggal 9 April 2001\" tidak dapat ditafsirkan secara  a cotrario  bahwa kemudian penyidikan dan atau penahanan setelah tanggal itu serta merta menjadi sah. Sebab, setiap tindakan penyidikan dan atau penahanan yang bersifat proyustisia harus dan wajib dituangkan dalam dokumen yang berbentuk surat perintah. Tim koneksitas saat ini belum pernah menerbitkan surat perintah.   Dalam Pasal 82 Ayat 3a KUHAP disebutkan bahwa  Dalam hal putusan menetapkan bahwa suatu penangkapan atau penahanan tidak sah, maka penyidik atau jaksa penuntut umum, pada tingkat pemeriksaan masing-masing harus segera membebaskan tersangka.    Muljohardjo tetap berpendapat bahwa penahanan Ginandjar sejak tanggal 9 April 2001 adalah sah. Jika penasihat hukum tidak menerima hal itu, mereka bisa mengajukan gugatan ganti rugi dan rehabilitasi atas masa penahanan sebelum tanggal 9 April 2001 yang telah dijalani Ginandjar.   Assegaf mengatakan, pihaknya belum memutuskan untuk mengajukan gugatan terhadap Kejagung. \"Target utama kami mengeluarkan Pak Ginandjar,\" kata Assegaf.  Kemarin, sekitar 100 orang yang menamakan diri Laskar Merah Putih terlihat berjaga di dekat pintu belakang Gedung Kejagung. Mereka minta agar Kejagung membebaskan Ginandjar.   Militer istimewa   Praktisi hukum Dr Todung Mulya Lubis mengungkapkan, putusan PN Jakarta Selatan dalam perkara praperadilan Ginandjar menunjukkan, hakim terjebak paradigma hukum lama yang menempatkan militer tidak tunduk kepada hukum sipil. Ini tidak sejalan dengan tuntutan reformasi yang menghendaki supremasi hukum kepada siapa pun.  \"Tuntutan reformasi menghendaki supremasi hukum. Jaksa Agung, sesuai Undang-Undang (UU) Kejaksaan Agung, mengoordinasikan penanganan perkara korupsi. Tetapi, dengan putusan hakim PN Jaksel, tuntutan reformasi belum terpenuhi. Justru paradigma hukum Orde Baru yang dipakai, yaitu militer tak bisa diperiksa sipil, meski ketika tindak pidana itu terjadi tidak dalam tugas militer,\" jelas Lubis. Ketua Perhimpunan Bantuan Hukum dan Hak Asasi Manusia Indonesia (PBHI) Hendardi sependapat, putusan PN Jaksel itu menunjukkan hakim masih dikuasai paradigma hukum konvensional. \"Putusan itu semakin mengukuhkan posisi istimewa militer. Walau melakukan korupsi saat bertugas di lingkungan sipil, mereka tak bisa ditindak secara sipil,\" ujarnya di Jakarta, Senin malam.  Lubis mengakui, tindak pidana yang dilakukan bersama-sama warga sipil dan anggota militer semestinya ditangani oleh tim koneksitas. Justru pemahaman ini yang ingin dirombak.\\n'"
            ],
            "application/vnd.google.colaboratory.intrinsic+json": {
              "type": "string"
            }
          },
          "metadata": {},
          "execution_count": 15
        }
      ]
    },
    {
      "cell_type": "code",
      "source": [
        "df.teks[144][:200]"
      ],
      "metadata": {
        "colab": {
          "base_uri": "https://localhost:8080/",
          "height": 55
        },
        "id": "1zD5tafHf0KF",
        "outputId": "364ecf82-7486-4434-89b8-5cb813395968"
      },
      "execution_count": null,
      "outputs": [
        {
          "output_type": "execute_result",
          "data": {
            "text/plain": [
              "'Kejaksaan Agung Terbitkan Surat Penahanan Baru\\nKejaksaan Agung (Kejagung) akhirnya menerbitkan surat perintah penahanan yang baru terhadap mantan Menteri Pertambangan dan Energi Ginandjar Kartasasmita'"
            ],
            "application/vnd.google.colaboratory.intrinsic+json": {
              "type": "string"
            }
          },
          "metadata": {},
          "execution_count": 17
        }
      ]
    },
    {
      "cell_type": "code",
      "source": [
        "df.teks[932][:200]"
      ],
      "metadata": {
        "colab": {
          "base_uri": "https://localhost:8080/",
          "height": 55
        },
        "id": "-Ex_huoff67L",
        "outputId": "d7a8b6a4-4085-46fe-f245-d3ea64c6cb6a"
      },
      "execution_count": null,
      "outputs": [
        {
          "output_type": "execute_result",
          "data": {
            "text/plain": [
              "'Pusat Pengolahan Ikan Asin Lhokseumawe Terbakar\\nPusat pengolahan ikan asin di kawasan Pasar Ikan Lhokseumawe (Aceh) terbakar bersama berton-ton stok ikan asin Sabtu (13/1) siang. Sedikitnya 25 gudang '"
            ],
            "application/vnd.google.colaboratory.intrinsic+json": {
              "type": "string"
            }
          },
          "metadata": {},
          "execution_count": 18
        }
      ]
    },
    {
      "cell_type": "markdown",
      "source": [
        "# Keyword Extraction"
      ],
      "metadata": {
        "id": "5-JmJGxGgAp7"
      }
    },
    {
      "cell_type": "code",
      "source": [
        "vocab = tfidf.get_feature_names_out()\n",
        "vocab[-10:]"
      ],
      "metadata": {
        "colab": {
          "base_uri": "https://localhost:8080/"
        },
        "id": "0T7t8XIcgEzE",
        "outputId": "5ee750ab-1db6-4855-e33b-37444cdf5cd1"
      },
      "execution_count": null,
      "outputs": [
        {
          "output_type": "execute_result",
          "data": {
            "text/plain": [
              "array(['zuniga memilih', 'zunnatul', 'zunnatul mafruhah', 'zurich',\n",
              "       'zurich northholt', 'zw', 'zw suparman', 'zw tim', 'zx',\n",
              "       'zx diserbu'], dtype=object)"
            ]
          },
          "metadata": {},
          "execution_count": 19
        }
      ]
    },
    {
      "cell_type": "code",
      "source": [
        "tfidf_matrix[0].toarray()"
      ],
      "metadata": {
        "colab": {
          "base_uri": "https://localhost:8080/"
        },
        "id": "z6qZJIBxgSTX",
        "outputId": "cd74b131-a98c-400a-d8d9-585fa420316e"
      },
      "execution_count": null,
      "outputs": [
        {
          "output_type": "execute_result",
          "data": {
            "text/plain": [
              "array([[0.02115058, 0.        , 0.        , ..., 0.        , 0.        ,\n",
              "        0.        ]])"
            ]
          },
          "metadata": {},
          "execution_count": 20
        }
      ]
    },
    {
      "cell_type": "code",
      "source": [
        "sorted_tfidf = tfidf_matrix[0].toarray()[0].argsort()\n",
        "sorted_tfidf"
      ],
      "metadata": {
        "colab": {
          "base_uri": "https://localhost:8080/",
          "height": 0
        },
        "id": "0vS6unhjq6Yk",
        "outputId": "fc1c5984-0a92-4902-f3a9-14d03ed4b0e1"
      },
      "execution_count": 21,
      "outputs": [
        {
          "output_type": "execute_result",
          "data": {
            "text/plain": [
              "array([274212, 365469, 365468, ..., 386379, 436652, 169219])"
            ]
          },
          "metadata": {},
          "execution_count": 21
        }
      ]
    },
    {
      "cell_type": "code",
      "source": [
        "vocab[169219]"
      ],
      "metadata": {
        "colab": {
          "base_uri": "https://localhost:8080/",
          "height": 36
        },
        "id": "KorncKf7rpUS",
        "outputId": "c7390e79-7b2d-455a-d066-ca623b1036f7"
      },
      "execution_count": 22,
      "outputs": [
        {
          "output_type": "execute_result",
          "data": {
            "text/plain": [
              "'ginandjar'"
            ],
            "application/vnd.google.colaboratory.intrinsic+json": {
              "type": "string"
            }
          },
          "metadata": {},
          "execution_count": 22
        }
      ]
    },
    {
      "cell_type": "code",
      "source": [
        "vocab[436652]"
      ],
      "metadata": {
        "colab": {
          "base_uri": "https://localhost:8080/",
          "height": 36
        },
        "id": "98T1ss3MrxST",
        "outputId": "92e95c97-7276-431a-d5ad-2f5377b378bc"
      },
      "execution_count": 23,
      "outputs": [
        {
          "output_type": "execute_result",
          "data": {
            "text/plain": [
              "'putusan'"
            ],
            "application/vnd.google.colaboratory.intrinsic+json": {
              "type": "string"
            }
          },
          "metadata": {},
          "execution_count": 23
        }
      ]
    },
    {
      "cell_type": "code",
      "source": [
        "[vocab[idx] for idx in reversed(sorted_tfidf[-10:])]"
      ],
      "metadata": {
        "colab": {
          "base_uri": "https://localhost:8080/",
          "height": 0
        },
        "id": "CkA2NeqDr93A",
        "outputId": "d41d9162-15cd-4437-a648-3880d7f4644f"
      },
      "execution_count": 24,
      "outputs": [
        {
          "output_type": "execute_result",
          "data": {
            "text/plain": [
              "['ginandjar',\n",
              " 'putusan',\n",
              " 'penahanan',\n",
              " 'hukum ginandjar',\n",
              " 'kuasa hukum',\n",
              " 'rusman',\n",
              " 'kejaksaan',\n",
              " 'hakim rusman',\n",
              " 'kuasa',\n",
              " '9 april']"
            ]
          },
          "metadata": {},
          "execution_count": 24
        }
      ]
    },
    {
      "cell_type": "code",
      "source": [
        "def extract_keywords_tfidf(doc, tfidf, topk=10):\n",
        "  matrix = tfidf.transform([doc])\n",
        "  vocab = tfidf.get_feature_names_out()\n",
        "\n",
        "  sorted_tfidf = matrix[0].toarray()[0].argsort()\n",
        "  return [vocab[idx] for idx in reversed(sorted_tfidf[-topk:])]"
      ],
      "metadata": {
        "id": "PI74sU3ssIer"
      },
      "execution_count": 29,
      "outputs": []
    },
    {
      "cell_type": "code",
      "source": [
        "text = \"\"\"Pemuda asal Kendari, Sulawesi Tenggara, Benaia Manasye Lintjewas jadi sorotan usai dinyatakan lulus jadi tentara Amerika Serikat (AS). Benaia sendiri dikabarkan masih berstatus WNI.\n",
        "\n",
        "Pria berusia 21 tahun ini iseng mendaftar menjadi tentara AS dan ternyata malah mendapatkan hasil nilai tertinggi di angkatannya. Berapa gaji Benaia jadi tentara AS?\n",
        "\n",
        "Dilansir dari laman goarmy.com, Jumat (24/3/2023), gaji tentara AS dihitung berdasarkan formula kombinasi antara pangkat dan masa pengabdian. Semakin besar pangkatnya, maka akan semakin besar juga gajinya.\n",
        "\n",
        "Benaia Manasye Lintjewas saat lulus jadi tentara AS./ Foto: Benaia Manasye Lintjewas saat lulus jadi tentara AS. Dokumen Istimewa\n",
        "Bila tak kunjung naik pangkat pun gaji bakal naik dalam kurun waktu masa pengabdian. Ada 4 golongan masa pengabdian mulai dari kurang dari 2 tahun, 4 tahun, 6 tahun, dan 8 tahun.\n",
        "\n",
        "Sementara pangkat di angkatan bersenjata di AS terbagi menjadi 3 golongan. Mulai dari golongan E atau Enlisted (Tamtama), W atau Warrant (Bintara Tinggi), O atau Officers (Perwira).\n",
        "\n",
        "Baca Juga : Sederet Peraturan Unik bagi Pekerja dari Berbagai Negara, Ada yang Larang Lembur hingga Boleh Tidur Siang!\n",
        "A U.S. army soldier stands guard in front of a F-22 stealth fighter jet (R) and F-15 fighter jet at Osan Air Base in Pyeongtaek, South Korea, February 17, 2016. REUTERS/Kim Hong-Ji/ Foto: REUTERS/Kim Hong-Ji\n",
        "Untuk jabatan paling rendah, E1 alias Private dengan masa jabatan di bawah 2 tahun mendapatkan gaji tahunan sebesar US$ 23.011.\n",
        "\n",
        "Bila dibagi selama 12 bulan maka per bulannya prajurit dengan jabatan E1 mendapatkan gaji sebesar US$ 1.917 atau sekitar Rp 29,4 juta (dalam kurs Rp 15.300).\n",
        "\n",
        "Lalu berapa kenaikan yang didapat jika berhasil naik pangkat? Baca selengkapnya di sini, Beauties.\n",
        "\n",
        "---\n",
        "\n",
        "Ingin jadi salah satu pembaca yang bisa ikutan beragam event seru di Beautynesia? Yuk gabung ke komunitas pembaca Beautynesia B-Nation.\"\"\""
      ],
      "metadata": {
        "id": "Z1x4wCtjtkwB"
      },
      "execution_count": 27,
      "outputs": []
    },
    {
      "cell_type": "code",
      "source": [
        "extract_keywords_tfidf(text, tfidf)"
      ],
      "metadata": {
        "colab": {
          "base_uri": "https://localhost:8080/",
          "height": 0
        },
        "id": "D0433esjuf5s",
        "outputId": "5a62b685-55b6-4fda-c5cc-78a3f509c34f"
      },
      "execution_count": 30,
      "outputs": [
        {
          "output_type": "execute_result",
          "data": {
            "text/plain": [
              "['tentara as',\n",
              " 'pangkat',\n",
              " 'gaji',\n",
              " 'tentara',\n",
              " 'pengabdian',\n",
              " 'lulus',\n",
              " 'as',\n",
              " 'us',\n",
              " 'jet',\n",
              " 'golongan']"
            ]
          },
          "metadata": {},
          "execution_count": 30
        }
      ]
    }
  ]
}