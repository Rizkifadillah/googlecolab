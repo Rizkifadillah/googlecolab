{
  "nbformat": 4,
  "nbformat_minor": 0,
  "metadata": {
    "colab": {
      "provenance": [],
      "authorship_tag": "ABX9TyMkuhqi9D7mSaKNxCQ84y7t",
      "include_colab_link": true
    },
    "kernelspec": {
      "name": "python3",
      "display_name": "Python 3"
    },
    "language_info": {
      "name": "python"
    },
    "widgets": {
      "application/vnd.jupyter.widget-state+json": {
        "fa5268542fbb402ab0c00de074612d4f": {
          "model_module": "@jupyter-widgets/controls",
          "model_name": "VBoxModel",
          "model_module_version": "1.5.0",
          "state": {
            "_dom_classes": [
              "widget-interact"
            ],
            "_model_module": "@jupyter-widgets/controls",
            "_model_module_version": "1.5.0",
            "_model_name": "VBoxModel",
            "_view_count": null,
            "_view_module": "@jupyter-widgets/controls",
            "_view_module_version": "1.5.0",
            "_view_name": "VBoxView",
            "box_style": "",
            "children": [
              "IPY_MODEL_6ac418f28b024fe0b7508d3f837cef60",
              "IPY_MODEL_90a73608529b43d399e3c57d03764768",
              "IPY_MODEL_fc036a45934d436ab126d7b00b64134e"
            ],
            "layout": "IPY_MODEL_c7829b25ccbb40acbe736ed56a853fa3"
          }
        },
        "6ac418f28b024fe0b7508d3f837cef60": {
          "model_module": "@jupyter-widgets/controls",
          "model_name": "SelectionSliderModel",
          "model_module_version": "1.5.0",
          "state": {
            "_dom_classes": [],
            "_model_module": "@jupyter-widgets/controls",
            "_model_module_version": "1.5.0",
            "_model_name": "SelectionSliderModel",
            "_options_labels": [
              "0.08620689655172414",
              "0.25862068965517243",
              "0.4310344827586207",
              "0.603448275862069",
              "0.7758620689655173",
              "0.9482758620689655",
              "1.1206896551724137",
              "1.293103448275862",
              "1.4655172413793105",
              "1.637931034482759",
              "1.8103448275862069",
              "1.9827586206896552",
              "2.1551724137931036",
              "2.3275862068965516",
              "2.5",
              "2.6724137931034484",
              "2.844827586206897",
              "3.017241379310345",
              "3.1896551724137936",
              "3.3620689655172415",
              "3.53448275862069",
              "3.706896551724138",
              "3.8793103448275863",
              "4.051724137931035",
              "4.224137931034483",
              "4.3965517241379315",
              "4.56896551724138",
              "4.741379310344827",
              "4.913793103448276"
            ],
            "_view_count": null,
            "_view_module": "@jupyter-widgets/controls",
            "_view_module_version": "1.5.0",
            "_view_name": "SelectionSliderView",
            "continuous_update": true,
            "description": "decision",
            "description_tooltip": null,
            "disabled": false,
            "index": 16,
            "layout": "IPY_MODEL_c415b51b397f42cab15f0bf379a9499e",
            "orientation": "horizontal",
            "readout": false,
            "style": "IPY_MODEL_68259fdf55ad41f29b866981e25e12e8"
          }
        },
        "90a73608529b43d399e3c57d03764768": {
          "model_module": "@jupyter-widgets/controls",
          "model_name": "CheckboxModel",
          "model_module_version": "1.5.0",
          "state": {
            "_dom_classes": [],
            "_model_module": "@jupyter-widgets/controls",
            "_model_module_version": "1.5.0",
            "_model_name": "CheckboxModel",
            "_view_count": null,
            "_view_module": "@jupyter-widgets/controls",
            "_view_module_version": "1.5.0",
            "_view_name": "CheckboxView",
            "description": "show_error",
            "description_tooltip": null,
            "disabled": false,
            "indent": true,
            "layout": "IPY_MODEL_8ba1cc9118e34ca5aa47a7082eed6268",
            "style": "IPY_MODEL_6482e40f347544d0aef2419a69fa1792",
            "value": false
          }
        },
        "fc036a45934d436ab126d7b00b64134e": {
          "model_module": "@jupyter-widgets/output",
          "model_name": "OutputModel",
          "model_module_version": "1.0.0",
          "state": {
            "_dom_classes": [],
            "_model_module": "@jupyter-widgets/output",
            "_model_module_version": "1.0.0",
            "_model_name": "OutputModel",
            "_view_count": null,
            "_view_module": "@jupyter-widgets/output",
            "_view_module_version": "1.0.0",
            "_view_name": "OutputView",
            "layout": "IPY_MODEL_1ec531e456364b6ea9b5e0cf1fcd6a94",
            "msg_id": "",
            "outputs": [
              {
                "output_type": "display_data",
                "data": {
                  "text/plain": "<Figure size 1080x432 with 1 Axes>",
                  "image/png": "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\n"
                },
                "metadata": {
                  "needs_background": "light"
                }
              }
            ]
          }
        },
        "c7829b25ccbb40acbe736ed56a853fa3": {
          "model_module": "@jupyter-widgets/base",
          "model_name": "LayoutModel",
          "model_module_version": "1.2.0",
          "state": {
            "_model_module": "@jupyter-widgets/base",
            "_model_module_version": "1.2.0",
            "_model_name": "LayoutModel",
            "_view_count": null,
            "_view_module": "@jupyter-widgets/base",
            "_view_module_version": "1.2.0",
            "_view_name": "LayoutView",
            "align_content": null,
            "align_items": null,
            "align_self": null,
            "border": null,
            "bottom": null,
            "display": null,
            "flex": null,
            "flex_flow": null,
            "grid_area": null,
            "grid_auto_columns": null,
            "grid_auto_flow": null,
            "grid_auto_rows": null,
            "grid_column": null,
            "grid_gap": null,
            "grid_row": null,
            "grid_template_areas": null,
            "grid_template_columns": null,
            "grid_template_rows": null,
            "height": null,
            "justify_content": null,
            "justify_items": null,
            "left": null,
            "margin": null,
            "max_height": null,
            "max_width": null,
            "min_height": null,
            "min_width": null,
            "object_fit": null,
            "object_position": null,
            "order": null,
            "overflow": null,
            "overflow_x": null,
            "overflow_y": null,
            "padding": null,
            "right": null,
            "top": null,
            "visibility": null,
            "width": null
          }
        },
        "c415b51b397f42cab15f0bf379a9499e": {
          "model_module": "@jupyter-widgets/base",
          "model_name": "LayoutModel",
          "model_module_version": "1.2.0",
          "state": {
            "_model_module": "@jupyter-widgets/base",
            "_model_module_version": "1.2.0",
            "_model_name": "LayoutModel",
            "_view_count": null,
            "_view_module": "@jupyter-widgets/base",
            "_view_module_version": "1.2.0",
            "_view_name": "LayoutView",
            "align_content": null,
            "align_items": null,
            "align_self": null,
            "border": null,
            "bottom": null,
            "display": null,
            "flex": null,
            "flex_flow": null,
            "grid_area": null,
            "grid_auto_columns": null,
            "grid_auto_flow": null,
            "grid_auto_rows": null,
            "grid_column": null,
            "grid_gap": null,
            "grid_row": null,
            "grid_template_areas": null,
            "grid_template_columns": null,
            "grid_template_rows": null,
            "height": null,
            "justify_content": null,
            "justify_items": null,
            "left": null,
            "margin": null,
            "max_height": null,
            "max_width": null,
            "min_height": null,
            "min_width": null,
            "object_fit": null,
            "object_position": null,
            "order": null,
            "overflow": null,
            "overflow_x": null,
            "overflow_y": null,
            "padding": null,
            "right": null,
            "top": null,
            "visibility": null,
            "width": null
          }
        },
        "68259fdf55ad41f29b866981e25e12e8": {
          "model_module": "@jupyter-widgets/controls",
          "model_name": "DescriptionStyleModel",
          "model_module_version": "1.5.0",
          "state": {
            "_model_module": "@jupyter-widgets/controls",
            "_model_module_version": "1.5.0",
            "_model_name": "DescriptionStyleModel",
            "_view_count": null,
            "_view_module": "@jupyter-widgets/base",
            "_view_module_version": "1.2.0",
            "_view_name": "StyleView",
            "description_width": ""
          }
        },
        "8ba1cc9118e34ca5aa47a7082eed6268": {
          "model_module": "@jupyter-widgets/base",
          "model_name": "LayoutModel",
          "model_module_version": "1.2.0",
          "state": {
            "_model_module": "@jupyter-widgets/base",
            "_model_module_version": "1.2.0",
            "_model_name": "LayoutModel",
            "_view_count": null,
            "_view_module": "@jupyter-widgets/base",
            "_view_module_version": "1.2.0",
            "_view_name": "LayoutView",
            "align_content": null,
            "align_items": null,
            "align_self": null,
            "border": null,
            "bottom": null,
            "display": null,
            "flex": null,
            "flex_flow": null,
            "grid_area": null,
            "grid_auto_columns": null,
            "grid_auto_flow": null,
            "grid_auto_rows": null,
            "grid_column": null,
            "grid_gap": null,
            "grid_row": null,
            "grid_template_areas": null,
            "grid_template_columns": null,
            "grid_template_rows": null,
            "height": null,
            "justify_content": null,
            "justify_items": null,
            "left": null,
            "margin": null,
            "max_height": null,
            "max_width": null,
            "min_height": null,
            "min_width": null,
            "object_fit": null,
            "object_position": null,
            "order": null,
            "overflow": null,
            "overflow_x": null,
            "overflow_y": null,
            "padding": null,
            "right": null,
            "top": null,
            "visibility": null,
            "width": null
          }
        },
        "6482e40f347544d0aef2419a69fa1792": {
          "model_module": "@jupyter-widgets/controls",
          "model_name": "DescriptionStyleModel",
          "model_module_version": "1.5.0",
          "state": {
            "_model_module": "@jupyter-widgets/controls",
            "_model_module_version": "1.5.0",
            "_model_name": "DescriptionStyleModel",
            "_view_count": null,
            "_view_module": "@jupyter-widgets/base",
            "_view_module_version": "1.2.0",
            "_view_name": "StyleView",
            "description_width": ""
          }
        },
        "1ec531e456364b6ea9b5e0cf1fcd6a94": {
          "model_module": "@jupyter-widgets/base",
          "model_name": "LayoutModel",
          "model_module_version": "1.2.0",
          "state": {
            "_model_module": "@jupyter-widgets/base",
            "_model_module_version": "1.2.0",
            "_model_name": "LayoutModel",
            "_view_count": null,
            "_view_module": "@jupyter-widgets/base",
            "_view_module_version": "1.2.0",
            "_view_name": "LayoutView",
            "align_content": null,
            "align_items": null,
            "align_self": null,
            "border": null,
            "bottom": null,
            "display": null,
            "flex": null,
            "flex_flow": null,
            "grid_area": null,
            "grid_auto_columns": null,
            "grid_auto_flow": null,
            "grid_auto_rows": null,
            "grid_column": null,
            "grid_gap": null,
            "grid_row": null,
            "grid_template_areas": null,
            "grid_template_columns": null,
            "grid_template_rows": null,
            "height": null,
            "justify_content": null,
            "justify_items": null,
            "left": null,
            "margin": null,
            "max_height": null,
            "max_width": null,
            "min_height": null,
            "min_width": null,
            "object_fit": null,
            "object_position": null,
            "order": null,
            "overflow": null,
            "overflow_x": null,
            "overflow_y": null,
            "padding": null,
            "right": null,
            "top": null,
            "visibility": null,
            "width": null
          }
        },
        "3158358bb22740bb9344ff691ef0b172": {
          "model_module": "@jupyter-widgets/controls",
          "model_name": "VBoxModel",
          "model_module_version": "1.5.0",
          "state": {
            "_dom_classes": [
              "widget-interact"
            ],
            "_model_module": "@jupyter-widgets/controls",
            "_model_module_version": "1.5.0",
            "_model_name": "VBoxModel",
            "_view_count": null,
            "_view_module": "@jupyter-widgets/controls",
            "_view_module_version": "1.5.0",
            "_view_name": "VBoxView",
            "box_style": "",
            "children": [
              "IPY_MODEL_ab3547c9c123494c94d951bb62fb3a27",
              "IPY_MODEL_94b44658926d4386baa26d11584c19b1",
              "IPY_MODEL_d8f0584b295d4ac598614c5397ea2842"
            ],
            "layout": "IPY_MODEL_9e9234ded1974b8c95119cf2bb97e26c"
          }
        },
        "ab3547c9c123494c94d951bb62fb3a27": {
          "model_module": "@jupyter-widgets/controls",
          "model_name": "IntSliderModel",
          "model_module_version": "1.5.0",
          "state": {
            "_dom_classes": [],
            "_model_module": "@jupyter-widgets/controls",
            "_model_module_version": "1.5.0",
            "_model_name": "IntSliderModel",
            "_view_count": null,
            "_view_module": "@jupyter-widgets/controls",
            "_view_module_version": "1.5.0",
            "_view_name": "IntSliderView",
            "continuous_update": true,
            "description": "depth",
            "description_tooltip": null,
            "disabled": false,
            "layout": "IPY_MODEL_482122b57e174e5e996b09fd8354eee3",
            "max": 7,
            "min": 1,
            "orientation": "horizontal",
            "readout": true,
            "readout_format": "d",
            "step": 1,
            "style": "IPY_MODEL_0de716dbc81e4d8c9b86b2b0f9675900",
            "value": 1
          }
        },
        "94b44658926d4386baa26d11584c19b1": {
          "model_module": "@jupyter-widgets/controls",
          "model_name": "CheckboxModel",
          "model_module_version": "1.5.0",
          "state": {
            "_dom_classes": [],
            "_model_module": "@jupyter-widgets/controls",
            "_model_module_version": "1.5.0",
            "_model_name": "CheckboxModel",
            "_view_count": null,
            "_view_module": "@jupyter-widgets/controls",
            "_view_module_version": "1.5.0",
            "_view_name": "CheckboxView",
            "description": "show_tree",
            "description_tooltip": null,
            "disabled": false,
            "indent": true,
            "layout": "IPY_MODEL_313fdbde46964531b75bad8fdb68c105",
            "style": "IPY_MODEL_9d86948e336845b39a6975f3a4e0a090",
            "value": false
          }
        },
        "d8f0584b295d4ac598614c5397ea2842": {
          "model_module": "@jupyter-widgets/output",
          "model_name": "OutputModel",
          "model_module_version": "1.0.0",
          "state": {
            "_dom_classes": [],
            "_model_module": "@jupyter-widgets/output",
            "_model_module_version": "1.0.0",
            "_model_name": "OutputModel",
            "_view_count": null,
            "_view_module": "@jupyter-widgets/output",
            "_view_module_version": "1.0.0",
            "_view_name": "OutputView",
            "layout": "IPY_MODEL_1fc8fbc4be3f4770ab5abf39212c0a18",
            "msg_id": "",
            "outputs": [
              {
                "output_type": "display_data",
                "data": {
                  "text/plain": "<Figure size 432x432 with 1 Axes>",
                  "image/png": "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\n"
                },
                "metadata": {
                  "needs_background": "light"
                }
              }
            ]
          }
        },
        "9e9234ded1974b8c95119cf2bb97e26c": {
          "model_module": "@jupyter-widgets/base",
          "model_name": "LayoutModel",
          "model_module_version": "1.2.0",
          "state": {
            "_model_module": "@jupyter-widgets/base",
            "_model_module_version": "1.2.0",
            "_model_name": "LayoutModel",
            "_view_count": null,
            "_view_module": "@jupyter-widgets/base",
            "_view_module_version": "1.2.0",
            "_view_name": "LayoutView",
            "align_content": null,
            "align_items": null,
            "align_self": null,
            "border": null,
            "bottom": null,
            "display": null,
            "flex": null,
            "flex_flow": null,
            "grid_area": null,
            "grid_auto_columns": null,
            "grid_auto_flow": null,
            "grid_auto_rows": null,
            "grid_column": null,
            "grid_gap": null,
            "grid_row": null,
            "grid_template_areas": null,
            "grid_template_columns": null,
            "grid_template_rows": null,
            "height": null,
            "justify_content": null,
            "justify_items": null,
            "left": null,
            "margin": null,
            "max_height": null,
            "max_width": null,
            "min_height": null,
            "min_width": null,
            "object_fit": null,
            "object_position": null,
            "order": null,
            "overflow": null,
            "overflow_x": null,
            "overflow_y": null,
            "padding": null,
            "right": null,
            "top": null,
            "visibility": null,
            "width": null
          }
        },
        "482122b57e174e5e996b09fd8354eee3": {
          "model_module": "@jupyter-widgets/base",
          "model_name": "LayoutModel",
          "model_module_version": "1.2.0",
          "state": {
            "_model_module": "@jupyter-widgets/base",
            "_model_module_version": "1.2.0",
            "_model_name": "LayoutModel",
            "_view_count": null,
            "_view_module": "@jupyter-widgets/base",
            "_view_module_version": "1.2.0",
            "_view_name": "LayoutView",
            "align_content": null,
            "align_items": null,
            "align_self": null,
            "border": null,
            "bottom": null,
            "display": null,
            "flex": null,
            "flex_flow": null,
            "grid_area": null,
            "grid_auto_columns": null,
            "grid_auto_flow": null,
            "grid_auto_rows": null,
            "grid_column": null,
            "grid_gap": null,
            "grid_row": null,
            "grid_template_areas": null,
            "grid_template_columns": null,
            "grid_template_rows": null,
            "height": null,
            "justify_content": null,
            "justify_items": null,
            "left": null,
            "margin": null,
            "max_height": null,
            "max_width": null,
            "min_height": null,
            "min_width": null,
            "object_fit": null,
            "object_position": null,
            "order": null,
            "overflow": null,
            "overflow_x": null,
            "overflow_y": null,
            "padding": null,
            "right": null,
            "top": null,
            "visibility": null,
            "width": null
          }
        },
        "0de716dbc81e4d8c9b86b2b0f9675900": {
          "model_module": "@jupyter-widgets/controls",
          "model_name": "SliderStyleModel",
          "model_module_version": "1.5.0",
          "state": {
            "_model_module": "@jupyter-widgets/controls",
            "_model_module_version": "1.5.0",
            "_model_name": "SliderStyleModel",
            "_view_count": null,
            "_view_module": "@jupyter-widgets/base",
            "_view_module_version": "1.2.0",
            "_view_name": "StyleView",
            "description_width": "",
            "handle_color": null
          }
        },
        "313fdbde46964531b75bad8fdb68c105": {
          "model_module": "@jupyter-widgets/base",
          "model_name": "LayoutModel",
          "model_module_version": "1.2.0",
          "state": {
            "_model_module": "@jupyter-widgets/base",
            "_model_module_version": "1.2.0",
            "_model_name": "LayoutModel",
            "_view_count": null,
            "_view_module": "@jupyter-widgets/base",
            "_view_module_version": "1.2.0",
            "_view_name": "LayoutView",
            "align_content": null,
            "align_items": null,
            "align_self": null,
            "border": null,
            "bottom": null,
            "display": null,
            "flex": null,
            "flex_flow": null,
            "grid_area": null,
            "grid_auto_columns": null,
            "grid_auto_flow": null,
            "grid_auto_rows": null,
            "grid_column": null,
            "grid_gap": null,
            "grid_row": null,
            "grid_template_areas": null,
            "grid_template_columns": null,
            "grid_template_rows": null,
            "height": null,
            "justify_content": null,
            "justify_items": null,
            "left": null,
            "margin": null,
            "max_height": null,
            "max_width": null,
            "min_height": null,
            "min_width": null,
            "object_fit": null,
            "object_position": null,
            "order": null,
            "overflow": null,
            "overflow_x": null,
            "overflow_y": null,
            "padding": null,
            "right": null,
            "top": null,
            "visibility": null,
            "width": null
          }
        },
        "9d86948e336845b39a6975f3a4e0a090": {
          "model_module": "@jupyter-widgets/controls",
          "model_name": "DescriptionStyleModel",
          "model_module_version": "1.5.0",
          "state": {
            "_model_module": "@jupyter-widgets/controls",
            "_model_module_version": "1.5.0",
            "_model_name": "DescriptionStyleModel",
            "_view_count": null,
            "_view_module": "@jupyter-widgets/base",
            "_view_module_version": "1.2.0",
            "_view_name": "StyleView",
            "description_width": ""
          }
        },
        "1fc8fbc4be3f4770ab5abf39212c0a18": {
          "model_module": "@jupyter-widgets/base",
          "model_name": "LayoutModel",
          "model_module_version": "1.2.0",
          "state": {
            "_model_module": "@jupyter-widgets/base",
            "_model_module_version": "1.2.0",
            "_model_name": "LayoutModel",
            "_view_count": null,
            "_view_module": "@jupyter-widgets/base",
            "_view_module_version": "1.2.0",
            "_view_name": "LayoutView",
            "align_content": null,
            "align_items": null,
            "align_self": null,
            "border": null,
            "bottom": null,
            "display": null,
            "flex": null,
            "flex_flow": null,
            "grid_area": null,
            "grid_auto_columns": null,
            "grid_auto_flow": null,
            "grid_auto_rows": null,
            "grid_column": null,
            "grid_gap": null,
            "grid_row": null,
            "grid_template_areas": null,
            "grid_template_columns": null,
            "grid_template_rows": null,
            "height": null,
            "justify_content": null,
            "justify_items": null,
            "left": null,
            "margin": null,
            "max_height": null,
            "max_width": null,
            "min_height": null,
            "min_width": null,
            "object_fit": null,
            "object_position": null,
            "order": null,
            "overflow": null,
            "overflow_x": null,
            "overflow_y": null,
            "padding": null,
            "right": null,
            "top": null,
            "visibility": null,
            "width": null
          }
        },
        "7675fcd0f8ec438dbbebdf483b75c701": {
          "model_module": "@jupyter-widgets/controls",
          "model_name": "VBoxModel",
          "model_module_version": "1.5.0",
          "state": {
            "_dom_classes": [
              "widget-interact"
            ],
            "_model_module": "@jupyter-widgets/controls",
            "_model_module_version": "1.5.0",
            "_model_name": "VBoxModel",
            "_view_count": null,
            "_view_module": "@jupyter-widgets/controls",
            "_view_module_version": "1.5.0",
            "_view_name": "VBoxView",
            "box_style": "",
            "children": [
              "IPY_MODEL_2f56efbaeacf40c2b3e454a16327c9aa",
              "IPY_MODEL_02c991b4c4664fb88301e3fe9b475a64",
              "IPY_MODEL_4688864c28704dfaae4d70a81a4e487a"
            ],
            "layout": "IPY_MODEL_389d02053d9145f08c3eb1927adb1904"
          }
        },
        "2f56efbaeacf40c2b3e454a16327c9aa": {
          "model_module": "@jupyter-widgets/controls",
          "model_name": "IntSliderModel",
          "model_module_version": "1.5.0",
          "state": {
            "_dom_classes": [],
            "_model_module": "@jupyter-widgets/controls",
            "_model_module_version": "1.5.0",
            "_model_name": "IntSliderModel",
            "_view_count": null,
            "_view_module": "@jupyter-widgets/controls",
            "_view_module_version": "1.5.0",
            "_view_name": "IntSliderView",
            "continuous_update": true,
            "description": "depth",
            "description_tooltip": null,
            "disabled": false,
            "layout": "IPY_MODEL_ae8de5fe316d4669a5cc45d3323e8208",
            "max": 7,
            "min": 1,
            "orientation": "horizontal",
            "readout": true,
            "readout_format": "d",
            "step": 1,
            "style": "IPY_MODEL_813ed98445f04a3cac4a2b10c2b96e75",
            "value": 2
          }
        },
        "02c991b4c4664fb88301e3fe9b475a64": {
          "model_module": "@jupyter-widgets/controls",
          "model_name": "IntSliderModel",
          "model_module_version": "1.5.0",
          "state": {
            "_dom_classes": [],
            "_model_module": "@jupyter-widgets/controls",
            "_model_module_version": "1.5.0",
            "_model_name": "IntSliderModel",
            "_view_count": null,
            "_view_module": "@jupyter-widgets/controls",
            "_view_module_version": "1.5.0",
            "_view_name": "IntSliderView",
            "continuous_update": true,
            "description": "min_samples_leaf",
            "description_tooltip": null,
            "disabled": false,
            "layout": "IPY_MODEL_b2726b923d6f4ef1a1ef1dcdd1366048",
            "max": 10,
            "min": 1,
            "orientation": "horizontal",
            "readout": true,
            "readout_format": "d",
            "step": 1,
            "style": "IPY_MODEL_d56e05bd8a9c4a1d8fc53c297af6f8ed",
            "value": 4
          }
        },
        "4688864c28704dfaae4d70a81a4e487a": {
          "model_module": "@jupyter-widgets/output",
          "model_name": "OutputModel",
          "model_module_version": "1.0.0",
          "state": {
            "_dom_classes": [],
            "_model_module": "@jupyter-widgets/output",
            "_model_module_version": "1.0.0",
            "_model_name": "OutputModel",
            "_view_count": null,
            "_view_module": "@jupyter-widgets/output",
            "_view_module_version": "1.0.0",
            "_view_name": "OutputView",
            "layout": "IPY_MODEL_2810a77e613243309ce1f32261cbda19",
            "msg_id": "",
            "outputs": [
              {
                "output_type": "display_data",
                "data": {
                  "text/plain": "<Figure size 432x432 with 1 Axes>",
                  "image/png": "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\n"
                },
                "metadata": {
                  "needs_background": "light"
                }
              }
            ]
          }
        },
        "389d02053d9145f08c3eb1927adb1904": {
          "model_module": "@jupyter-widgets/base",
          "model_name": "LayoutModel",
          "model_module_version": "1.2.0",
          "state": {
            "_model_module": "@jupyter-widgets/base",
            "_model_module_version": "1.2.0",
            "_model_name": "LayoutModel",
            "_view_count": null,
            "_view_module": "@jupyter-widgets/base",
            "_view_module_version": "1.2.0",
            "_view_name": "LayoutView",
            "align_content": null,
            "align_items": null,
            "align_self": null,
            "border": null,
            "bottom": null,
            "display": null,
            "flex": null,
            "flex_flow": null,
            "grid_area": null,
            "grid_auto_columns": null,
            "grid_auto_flow": null,
            "grid_auto_rows": null,
            "grid_column": null,
            "grid_gap": null,
            "grid_row": null,
            "grid_template_areas": null,
            "grid_template_columns": null,
            "grid_template_rows": null,
            "height": null,
            "justify_content": null,
            "justify_items": null,
            "left": null,
            "margin": null,
            "max_height": null,
            "max_width": null,
            "min_height": null,
            "min_width": null,
            "object_fit": null,
            "object_position": null,
            "order": null,
            "overflow": null,
            "overflow_x": null,
            "overflow_y": null,
            "padding": null,
            "right": null,
            "top": null,
            "visibility": null,
            "width": null
          }
        },
        "ae8de5fe316d4669a5cc45d3323e8208": {
          "model_module": "@jupyter-widgets/base",
          "model_name": "LayoutModel",
          "model_module_version": "1.2.0",
          "state": {
            "_model_module": "@jupyter-widgets/base",
            "_model_module_version": "1.2.0",
            "_model_name": "LayoutModel",
            "_view_count": null,
            "_view_module": "@jupyter-widgets/base",
            "_view_module_version": "1.2.0",
            "_view_name": "LayoutView",
            "align_content": null,
            "align_items": null,
            "align_self": null,
            "border": null,
            "bottom": null,
            "display": null,
            "flex": null,
            "flex_flow": null,
            "grid_area": null,
            "grid_auto_columns": null,
            "grid_auto_flow": null,
            "grid_auto_rows": null,
            "grid_column": null,
            "grid_gap": null,
            "grid_row": null,
            "grid_template_areas": null,
            "grid_template_columns": null,
            "grid_template_rows": null,
            "height": null,
            "justify_content": null,
            "justify_items": null,
            "left": null,
            "margin": null,
            "max_height": null,
            "max_width": null,
            "min_height": null,
            "min_width": null,
            "object_fit": null,
            "object_position": null,
            "order": null,
            "overflow": null,
            "overflow_x": null,
            "overflow_y": null,
            "padding": null,
            "right": null,
            "top": null,
            "visibility": null,
            "width": null
          }
        },
        "813ed98445f04a3cac4a2b10c2b96e75": {
          "model_module": "@jupyter-widgets/controls",
          "model_name": "SliderStyleModel",
          "model_module_version": "1.5.0",
          "state": {
            "_model_module": "@jupyter-widgets/controls",
            "_model_module_version": "1.5.0",
            "_model_name": "SliderStyleModel",
            "_view_count": null,
            "_view_module": "@jupyter-widgets/base",
            "_view_module_version": "1.2.0",
            "_view_name": "StyleView",
            "description_width": "",
            "handle_color": null
          }
        },
        "b2726b923d6f4ef1a1ef1dcdd1366048": {
          "model_module": "@jupyter-widgets/base",
          "model_name": "LayoutModel",
          "model_module_version": "1.2.0",
          "state": {
            "_model_module": "@jupyter-widgets/base",
            "_model_module_version": "1.2.0",
            "_model_name": "LayoutModel",
            "_view_count": null,
            "_view_module": "@jupyter-widgets/base",
            "_view_module_version": "1.2.0",
            "_view_name": "LayoutView",
            "align_content": null,
            "align_items": null,
            "align_self": null,
            "border": null,
            "bottom": null,
            "display": null,
            "flex": null,
            "flex_flow": null,
            "grid_area": null,
            "grid_auto_columns": null,
            "grid_auto_flow": null,
            "grid_auto_rows": null,
            "grid_column": null,
            "grid_gap": null,
            "grid_row": null,
            "grid_template_areas": null,
            "grid_template_columns": null,
            "grid_template_rows": null,
            "height": null,
            "justify_content": null,
            "justify_items": null,
            "left": null,
            "margin": null,
            "max_height": null,
            "max_width": null,
            "min_height": null,
            "min_width": null,
            "object_fit": null,
            "object_position": null,
            "order": null,
            "overflow": null,
            "overflow_x": null,
            "overflow_y": null,
            "padding": null,
            "right": null,
            "top": null,
            "visibility": null,
            "width": null
          }
        },
        "d56e05bd8a9c4a1d8fc53c297af6f8ed": {
          "model_module": "@jupyter-widgets/controls",
          "model_name": "SliderStyleModel",
          "model_module_version": "1.5.0",
          "state": {
            "_model_module": "@jupyter-widgets/controls",
            "_model_module_version": "1.5.0",
            "_model_name": "SliderStyleModel",
            "_view_count": null,
            "_view_module": "@jupyter-widgets/base",
            "_view_module_version": "1.2.0",
            "_view_name": "StyleView",
            "description_width": "",
            "handle_color": null
          }
        },
        "2810a77e613243309ce1f32261cbda19": {
          "model_module": "@jupyter-widgets/base",
          "model_name": "LayoutModel",
          "model_module_version": "1.2.0",
          "state": {
            "_model_module": "@jupyter-widgets/base",
            "_model_module_version": "1.2.0",
            "_model_name": "LayoutModel",
            "_view_count": null,
            "_view_module": "@jupyter-widgets/base",
            "_view_module_version": "1.2.0",
            "_view_name": "LayoutView",
            "align_content": null,
            "align_items": null,
            "align_self": null,
            "border": null,
            "bottom": null,
            "display": null,
            "flex": null,
            "flex_flow": null,
            "grid_area": null,
            "grid_auto_columns": null,
            "grid_auto_flow": null,
            "grid_auto_rows": null,
            "grid_column": null,
            "grid_gap": null,
            "grid_row": null,
            "grid_template_areas": null,
            "grid_template_columns": null,
            "grid_template_rows": null,
            "height": null,
            "justify_content": null,
            "justify_items": null,
            "left": null,
            "margin": null,
            "max_height": null,
            "max_width": null,
            "min_height": null,
            "min_width": null,
            "object_fit": null,
            "object_position": null,
            "order": null,
            "overflow": null,
            "overflow_x": null,
            "overflow_y": null,
            "padding": null,
            "right": null,
            "top": null,
            "visibility": null,
            "width": null
          }
        },
        "57835add01c640038f2fccea1a3ee23e": {
          "model_module": "@jupyter-widgets/controls",
          "model_name": "VBoxModel",
          "model_module_version": "1.5.0",
          "state": {
            "_dom_classes": [
              "widget-interact"
            ],
            "_model_module": "@jupyter-widgets/controls",
            "_model_module_version": "1.5.0",
            "_model_name": "VBoxModel",
            "_view_count": null,
            "_view_module": "@jupyter-widgets/controls",
            "_view_module_version": "1.5.0",
            "_view_name": "VBoxView",
            "box_style": "",
            "children": [
              "IPY_MODEL_a5d7e27e069c48a6a0c498ed75c33257",
              "IPY_MODEL_98846013f62d4c678a7aada466a6640d",
              "IPY_MODEL_de85ee7e62cb499bae1283e704f3dfd7"
            ],
            "layout": "IPY_MODEL_33d75d4908254a5891749ef374297c15"
          }
        },
        "a5d7e27e069c48a6a0c498ed75c33257": {
          "model_module": "@jupyter-widgets/controls",
          "model_name": "ToggleButtonModel",
          "model_module_version": "1.5.0",
          "state": {
            "_dom_classes": [],
            "_model_module": "@jupyter-widgets/controls",
            "_model_module_version": "1.5.0",
            "_model_name": "ToggleButtonModel",
            "_view_count": null,
            "_view_module": "@jupyter-widgets/controls",
            "_view_module_version": "1.5.0",
            "_view_name": "ToggleButtonView",
            "button_style": "",
            "description": "bootstrap",
            "description_tooltip": null,
            "disabled": false,
            "icon": "",
            "layout": "IPY_MODEL_c456aa58ba144fc39d842c3e54a693c2",
            "style": "IPY_MODEL_23bcf3f23a5c4b0687367364136d6897",
            "tooltip": "",
            "value": true
          }
        },
        "98846013f62d4c678a7aada466a6640d": {
          "model_module": "@jupyter-widgets/controls",
          "model_name": "ToggleButtonModel",
          "model_module_version": "1.5.0",
          "state": {
            "_dom_classes": [],
            "_model_module": "@jupyter-widgets/controls",
            "_model_module_version": "1.5.0",
            "_model_name": "ToggleButtonModel",
            "_view_count": null,
            "_view_module": "@jupyter-widgets/controls",
            "_view_module_version": "1.5.0",
            "_view_name": "ToggleButtonView",
            "button_style": "",
            "description": "fit",
            "description_tooltip": null,
            "disabled": false,
            "icon": "",
            "layout": "IPY_MODEL_4c45fa9e1de94334ab91352316c2dbaf",
            "style": "IPY_MODEL_69f43dd872ac4db18ab3a11ab697962a",
            "tooltip": "",
            "value": true
          }
        },
        "de85ee7e62cb499bae1283e704f3dfd7": {
          "model_module": "@jupyter-widgets/output",
          "model_name": "OutputModel",
          "model_module_version": "1.0.0",
          "state": {
            "_dom_classes": [],
            "_model_module": "@jupyter-widgets/output",
            "_model_module_version": "1.0.0",
            "_model_name": "OutputModel",
            "_view_count": null,
            "_view_module": "@jupyter-widgets/output",
            "_view_module_version": "1.0.0",
            "_view_name": "OutputView",
            "layout": "IPY_MODEL_850fdd0e650f46d2a30020bf89a00008",
            "msg_id": "",
            "outputs": [
              {
                "output_type": "display_data",
                "data": {
                  "text/plain": "<Figure size 432x432 with 1 Axes>",
                  "image/png": "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\n"
                },
                "metadata": {
                  "needs_background": "light"
                }
              }
            ]
          }
        },
        "33d75d4908254a5891749ef374297c15": {
          "model_module": "@jupyter-widgets/base",
          "model_name": "LayoutModel",
          "model_module_version": "1.2.0",
          "state": {
            "_model_module": "@jupyter-widgets/base",
            "_model_module_version": "1.2.0",
            "_model_name": "LayoutModel",
            "_view_count": null,
            "_view_module": "@jupyter-widgets/base",
            "_view_module_version": "1.2.0",
            "_view_name": "LayoutView",
            "align_content": null,
            "align_items": null,
            "align_self": null,
            "border": null,
            "bottom": null,
            "display": null,
            "flex": null,
            "flex_flow": null,
            "grid_area": null,
            "grid_auto_columns": null,
            "grid_auto_flow": null,
            "grid_auto_rows": null,
            "grid_column": null,
            "grid_gap": null,
            "grid_row": null,
            "grid_template_areas": null,
            "grid_template_columns": null,
            "grid_template_rows": null,
            "height": null,
            "justify_content": null,
            "justify_items": null,
            "left": null,
            "margin": null,
            "max_height": null,
            "max_width": null,
            "min_height": null,
            "min_width": null,
            "object_fit": null,
            "object_position": null,
            "order": null,
            "overflow": null,
            "overflow_x": null,
            "overflow_y": null,
            "padding": null,
            "right": null,
            "top": null,
            "visibility": null,
            "width": null
          }
        },
        "c456aa58ba144fc39d842c3e54a693c2": {
          "model_module": "@jupyter-widgets/base",
          "model_name": "LayoutModel",
          "model_module_version": "1.2.0",
          "state": {
            "_model_module": "@jupyter-widgets/base",
            "_model_module_version": "1.2.0",
            "_model_name": "LayoutModel",
            "_view_count": null,
            "_view_module": "@jupyter-widgets/base",
            "_view_module_version": "1.2.0",
            "_view_name": "LayoutView",
            "align_content": null,
            "align_items": null,
            "align_self": null,
            "border": null,
            "bottom": null,
            "display": null,
            "flex": null,
            "flex_flow": null,
            "grid_area": null,
            "grid_auto_columns": null,
            "grid_auto_flow": null,
            "grid_auto_rows": null,
            "grid_column": null,
            "grid_gap": null,
            "grid_row": null,
            "grid_template_areas": null,
            "grid_template_columns": null,
            "grid_template_rows": null,
            "height": null,
            "justify_content": null,
            "justify_items": null,
            "left": null,
            "margin": null,
            "max_height": null,
            "max_width": null,
            "min_height": null,
            "min_width": null,
            "object_fit": null,
            "object_position": null,
            "order": null,
            "overflow": null,
            "overflow_x": null,
            "overflow_y": null,
            "padding": null,
            "right": null,
            "top": null,
            "visibility": null,
            "width": null
          }
        },
        "23bcf3f23a5c4b0687367364136d6897": {
          "model_module": "@jupyter-widgets/controls",
          "model_name": "DescriptionStyleModel",
          "model_module_version": "1.5.0",
          "state": {
            "_model_module": "@jupyter-widgets/controls",
            "_model_module_version": "1.5.0",
            "_model_name": "DescriptionStyleModel",
            "_view_count": null,
            "_view_module": "@jupyter-widgets/base",
            "_view_module_version": "1.2.0",
            "_view_name": "StyleView",
            "description_width": ""
          }
        },
        "4c45fa9e1de94334ab91352316c2dbaf": {
          "model_module": "@jupyter-widgets/base",
          "model_name": "LayoutModel",
          "model_module_version": "1.2.0",
          "state": {
            "_model_module": "@jupyter-widgets/base",
            "_model_module_version": "1.2.0",
            "_model_name": "LayoutModel",
            "_view_count": null,
            "_view_module": "@jupyter-widgets/base",
            "_view_module_version": "1.2.0",
            "_view_name": "LayoutView",
            "align_content": null,
            "align_items": null,
            "align_self": null,
            "border": null,
            "bottom": null,
            "display": null,
            "flex": null,
            "flex_flow": null,
            "grid_area": null,
            "grid_auto_columns": null,
            "grid_auto_flow": null,
            "grid_auto_rows": null,
            "grid_column": null,
            "grid_gap": null,
            "grid_row": null,
            "grid_template_areas": null,
            "grid_template_columns": null,
            "grid_template_rows": null,
            "height": null,
            "justify_content": null,
            "justify_items": null,
            "left": null,
            "margin": null,
            "max_height": null,
            "max_width": null,
            "min_height": null,
            "min_width": null,
            "object_fit": null,
            "object_position": null,
            "order": null,
            "overflow": null,
            "overflow_x": null,
            "overflow_y": null,
            "padding": null,
            "right": null,
            "top": null,
            "visibility": null,
            "width": null
          }
        },
        "69f43dd872ac4db18ab3a11ab697962a": {
          "model_module": "@jupyter-widgets/controls",
          "model_name": "DescriptionStyleModel",
          "model_module_version": "1.5.0",
          "state": {
            "_model_module": "@jupyter-widgets/controls",
            "_model_module_version": "1.5.0",
            "_model_name": "DescriptionStyleModel",
            "_view_count": null,
            "_view_module": "@jupyter-widgets/base",
            "_view_module_version": "1.2.0",
            "_view_name": "StyleView",
            "description_width": ""
          }
        },
        "850fdd0e650f46d2a30020bf89a00008": {
          "model_module": "@jupyter-widgets/base",
          "model_name": "LayoutModel",
          "model_module_version": "1.2.0",
          "state": {
            "_model_module": "@jupyter-widgets/base",
            "_model_module_version": "1.2.0",
            "_model_name": "LayoutModel",
            "_view_count": null,
            "_view_module": "@jupyter-widgets/base",
            "_view_module_version": "1.2.0",
            "_view_name": "LayoutView",
            "align_content": null,
            "align_items": null,
            "align_self": null,
            "border": null,
            "bottom": null,
            "display": null,
            "flex": null,
            "flex_flow": null,
            "grid_area": null,
            "grid_auto_columns": null,
            "grid_auto_flow": null,
            "grid_auto_rows": null,
            "grid_column": null,
            "grid_gap": null,
            "grid_row": null,
            "grid_template_areas": null,
            "grid_template_columns": null,
            "grid_template_rows": null,
            "height": null,
            "justify_content": null,
            "justify_items": null,
            "left": null,
            "margin": null,
            "max_height": null,
            "max_width": null,
            "min_height": null,
            "min_width": null,
            "object_fit": null,
            "object_position": null,
            "order": null,
            "overflow": null,
            "overflow_x": null,
            "overflow_y": null,
            "padding": null,
            "right": null,
            "top": null,
            "visibility": null,
            "width": null
          }
        },
        "065beb2ce85b4298ae626be063a63fad": {
          "model_module": "@jupyter-widgets/controls",
          "model_name": "VBoxModel",
          "model_module_version": "1.5.0",
          "state": {
            "_dom_classes": [
              "widget-interact"
            ],
            "_model_module": "@jupyter-widgets/controls",
            "_model_module_version": "1.5.0",
            "_model_name": "VBoxModel",
            "_view_count": null,
            "_view_module": "@jupyter-widgets/controls",
            "_view_module_version": "1.5.0",
            "_view_name": "VBoxView",
            "box_style": "",
            "children": [
              "IPY_MODEL_e22ea727768f4503805c3a2aac60d41d",
              "IPY_MODEL_7d7fb047418647138832c5a66a77631a",
              "IPY_MODEL_739e14873d0f4e5c84d76b26f6aa5985",
              "IPY_MODEL_62c240fb72544772874fc03b7724f4bb"
            ],
            "layout": "IPY_MODEL_ed8f5ca7671f48a697064c01e07b6b66"
          }
        },
        "e22ea727768f4503805c3a2aac60d41d": {
          "model_module": "@jupyter-widgets/controls",
          "model_name": "IntSliderModel",
          "model_module_version": "1.5.0",
          "state": {
            "_dom_classes": [],
            "_model_module": "@jupyter-widgets/controls",
            "_model_module_version": "1.5.0",
            "_model_name": "IntSliderModel",
            "_view_count": null,
            "_view_module": "@jupyter-widgets/controls",
            "_view_module_version": "1.5.0",
            "_view_name": "IntSliderView",
            "continuous_update": true,
            "description": "n_tree",
            "description_tooltip": null,
            "disabled": false,
            "layout": "IPY_MODEL_23b4801e1ab748a19ee8dc0e7f5ce38b",
            "max": 6,
            "min": 1,
            "orientation": "horizontal",
            "readout": true,
            "readout_format": "d",
            "step": 1,
            "style": "IPY_MODEL_dc79c0c2ceeb4b0f9551028ac8be78e4",
            "value": 6
          }
        },
        "7d7fb047418647138832c5a66a77631a": {
          "model_module": "@jupyter-widgets/controls",
          "model_name": "IntSliderModel",
          "model_module_version": "1.5.0",
          "state": {
            "_dom_classes": [],
            "_model_module": "@jupyter-widgets/controls",
            "_model_module_version": "1.5.0",
            "_model_name": "IntSliderModel",
            "_view_count": null,
            "_view_module": "@jupyter-widgets/controls",
            "_view_module_version": "1.5.0",
            "_view_name": "IntSliderView",
            "continuous_update": true,
            "description": "depth",
            "description_tooltip": null,
            "disabled": false,
            "layout": "IPY_MODEL_5f332e1a7c8e4975b05df801f4b6334a",
            "max": 7,
            "min": 1,
            "orientation": "horizontal",
            "readout": true,
            "readout_format": "d",
            "step": 1,
            "style": "IPY_MODEL_a6ff54092d2849acb0bc0864abb35b0d",
            "value": 4
          }
        },
        "739e14873d0f4e5c84d76b26f6aa5985": {
          "model_module": "@jupyter-widgets/controls",
          "model_name": "ToggleButtonsModel",
          "model_module_version": "1.5.0",
          "state": {
            "_dom_classes": [],
            "_model_module": "@jupyter-widgets/controls",
            "_model_module_version": "1.5.0",
            "_model_name": "ToggleButtonsModel",
            "_options_labels": [
              "bootstrap",
              "aggregate"
            ],
            "_view_count": null,
            "_view_module": "@jupyter-widgets/controls",
            "_view_module_version": "1.5.0",
            "_view_name": "ToggleButtonsView",
            "button_style": "",
            "description": "phase",
            "description_tooltip": null,
            "disabled": false,
            "icons": [],
            "index": 1,
            "layout": "IPY_MODEL_4d4b2a3f541041238514bff361c2c899",
            "style": "IPY_MODEL_c7b0d8404baa4ac2968a223d035afcd7",
            "tooltips": []
          }
        },
        "62c240fb72544772874fc03b7724f4bb": {
          "model_module": "@jupyter-widgets/output",
          "model_name": "OutputModel",
          "model_module_version": "1.0.0",
          "state": {
            "_dom_classes": [],
            "_model_module": "@jupyter-widgets/output",
            "_model_module_version": "1.0.0",
            "_model_name": "OutputModel",
            "_view_count": null,
            "_view_module": "@jupyter-widgets/output",
            "_view_module_version": "1.0.0",
            "_view_name": "OutputView",
            "layout": "IPY_MODEL_13d6e67fbca74d9d8783c5d9adc7f0fd",
            "msg_id": "",
            "outputs": [
              {
                "output_type": "display_data",
                "data": {
                  "text/plain": "<Figure size 936x432 with 2 Axes>",
                  "image/png": "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\n"
                },
                "metadata": {
                  "needs_background": "light"
                }
              }
            ]
          }
        },
        "ed8f5ca7671f48a697064c01e07b6b66": {
          "model_module": "@jupyter-widgets/base",
          "model_name": "LayoutModel",
          "model_module_version": "1.2.0",
          "state": {
            "_model_module": "@jupyter-widgets/base",
            "_model_module_version": "1.2.0",
            "_model_name": "LayoutModel",
            "_view_count": null,
            "_view_module": "@jupyter-widgets/base",
            "_view_module_version": "1.2.0",
            "_view_name": "LayoutView",
            "align_content": null,
            "align_items": null,
            "align_self": null,
            "border": null,
            "bottom": null,
            "display": null,
            "flex": null,
            "flex_flow": null,
            "grid_area": null,
            "grid_auto_columns": null,
            "grid_auto_flow": null,
            "grid_auto_rows": null,
            "grid_column": null,
            "grid_gap": null,
            "grid_row": null,
            "grid_template_areas": null,
            "grid_template_columns": null,
            "grid_template_rows": null,
            "height": null,
            "justify_content": null,
            "justify_items": null,
            "left": null,
            "margin": null,
            "max_height": null,
            "max_width": null,
            "min_height": null,
            "min_width": null,
            "object_fit": null,
            "object_position": null,
            "order": null,
            "overflow": null,
            "overflow_x": null,
            "overflow_y": null,
            "padding": null,
            "right": null,
            "top": null,
            "visibility": null,
            "width": null
          }
        },
        "23b4801e1ab748a19ee8dc0e7f5ce38b": {
          "model_module": "@jupyter-widgets/base",
          "model_name": "LayoutModel",
          "model_module_version": "1.2.0",
          "state": {
            "_model_module": "@jupyter-widgets/base",
            "_model_module_version": "1.2.0",
            "_model_name": "LayoutModel",
            "_view_count": null,
            "_view_module": "@jupyter-widgets/base",
            "_view_module_version": "1.2.0",
            "_view_name": "LayoutView",
            "align_content": null,
            "align_items": null,
            "align_self": null,
            "border": null,
            "bottom": null,
            "display": null,
            "flex": null,
            "flex_flow": null,
            "grid_area": null,
            "grid_auto_columns": null,
            "grid_auto_flow": null,
            "grid_auto_rows": null,
            "grid_column": null,
            "grid_gap": null,
            "grid_row": null,
            "grid_template_areas": null,
            "grid_template_columns": null,
            "grid_template_rows": null,
            "height": null,
            "justify_content": null,
            "justify_items": null,
            "left": null,
            "margin": null,
            "max_height": null,
            "max_width": null,
            "min_height": null,
            "min_width": null,
            "object_fit": null,
            "object_position": null,
            "order": null,
            "overflow": null,
            "overflow_x": null,
            "overflow_y": null,
            "padding": null,
            "right": null,
            "top": null,
            "visibility": null,
            "width": null
          }
        },
        "dc79c0c2ceeb4b0f9551028ac8be78e4": {
          "model_module": "@jupyter-widgets/controls",
          "model_name": "SliderStyleModel",
          "model_module_version": "1.5.0",
          "state": {
            "_model_module": "@jupyter-widgets/controls",
            "_model_module_version": "1.5.0",
            "_model_name": "SliderStyleModel",
            "_view_count": null,
            "_view_module": "@jupyter-widgets/base",
            "_view_module_version": "1.2.0",
            "_view_name": "StyleView",
            "description_width": "",
            "handle_color": null
          }
        },
        "5f332e1a7c8e4975b05df801f4b6334a": {
          "model_module": "@jupyter-widgets/base",
          "model_name": "LayoutModel",
          "model_module_version": "1.2.0",
          "state": {
            "_model_module": "@jupyter-widgets/base",
            "_model_module_version": "1.2.0",
            "_model_name": "LayoutModel",
            "_view_count": null,
            "_view_module": "@jupyter-widgets/base",
            "_view_module_version": "1.2.0",
            "_view_name": "LayoutView",
            "align_content": null,
            "align_items": null,
            "align_self": null,
            "border": null,
            "bottom": null,
            "display": null,
            "flex": null,
            "flex_flow": null,
            "grid_area": null,
            "grid_auto_columns": null,
            "grid_auto_flow": null,
            "grid_auto_rows": null,
            "grid_column": null,
            "grid_gap": null,
            "grid_row": null,
            "grid_template_areas": null,
            "grid_template_columns": null,
            "grid_template_rows": null,
            "height": null,
            "justify_content": null,
            "justify_items": null,
            "left": null,
            "margin": null,
            "max_height": null,
            "max_width": null,
            "min_height": null,
            "min_width": null,
            "object_fit": null,
            "object_position": null,
            "order": null,
            "overflow": null,
            "overflow_x": null,
            "overflow_y": null,
            "padding": null,
            "right": null,
            "top": null,
            "visibility": null,
            "width": null
          }
        },
        "a6ff54092d2849acb0bc0864abb35b0d": {
          "model_module": "@jupyter-widgets/controls",
          "model_name": "SliderStyleModel",
          "model_module_version": "1.5.0",
          "state": {
            "_model_module": "@jupyter-widgets/controls",
            "_model_module_version": "1.5.0",
            "_model_name": "SliderStyleModel",
            "_view_count": null,
            "_view_module": "@jupyter-widgets/base",
            "_view_module_version": "1.2.0",
            "_view_name": "StyleView",
            "description_width": "",
            "handle_color": null
          }
        },
        "4d4b2a3f541041238514bff361c2c899": {
          "model_module": "@jupyter-widgets/base",
          "model_name": "LayoutModel",
          "model_module_version": "1.2.0",
          "state": {
            "_model_module": "@jupyter-widgets/base",
            "_model_module_version": "1.2.0",
            "_model_name": "LayoutModel",
            "_view_count": null,
            "_view_module": "@jupyter-widgets/base",
            "_view_module_version": "1.2.0",
            "_view_name": "LayoutView",
            "align_content": null,
            "align_items": null,
            "align_self": null,
            "border": null,
            "bottom": null,
            "display": null,
            "flex": null,
            "flex_flow": null,
            "grid_area": null,
            "grid_auto_columns": null,
            "grid_auto_flow": null,
            "grid_auto_rows": null,
            "grid_column": null,
            "grid_gap": null,
            "grid_row": null,
            "grid_template_areas": null,
            "grid_template_columns": null,
            "grid_template_rows": null,
            "height": null,
            "justify_content": null,
            "justify_items": null,
            "left": null,
            "margin": null,
            "max_height": null,
            "max_width": null,
            "min_height": null,
            "min_width": null,
            "object_fit": null,
            "object_position": null,
            "order": null,
            "overflow": null,
            "overflow_x": null,
            "overflow_y": null,
            "padding": null,
            "right": null,
            "top": null,
            "visibility": null,
            "width": null
          }
        },
        "c7b0d8404baa4ac2968a223d035afcd7": {
          "model_module": "@jupyter-widgets/controls",
          "model_name": "ToggleButtonsStyleModel",
          "model_module_version": "1.5.0",
          "state": {
            "_model_module": "@jupyter-widgets/controls",
            "_model_module_version": "1.5.0",
            "_model_name": "ToggleButtonsStyleModel",
            "_view_count": null,
            "_view_module": "@jupyter-widgets/base",
            "_view_module_version": "1.2.0",
            "_view_name": "StyleView",
            "button_width": "",
            "description_width": "",
            "font_weight": ""
          }
        },
        "13d6e67fbca74d9d8783c5d9adc7f0fd": {
          "model_module": "@jupyter-widgets/base",
          "model_name": "LayoutModel",
          "model_module_version": "1.2.0",
          "state": {
            "_model_module": "@jupyter-widgets/base",
            "_model_module_version": "1.2.0",
            "_model_name": "LayoutModel",
            "_view_count": null,
            "_view_module": "@jupyter-widgets/base",
            "_view_module_version": "1.2.0",
            "_view_name": "LayoutView",
            "align_content": null,
            "align_items": null,
            "align_self": null,
            "border": null,
            "bottom": null,
            "display": null,
            "flex": null,
            "flex_flow": null,
            "grid_area": null,
            "grid_auto_columns": null,
            "grid_auto_flow": null,
            "grid_auto_rows": null,
            "grid_column": null,
            "grid_gap": null,
            "grid_row": null,
            "grid_template_areas": null,
            "grid_template_columns": null,
            "grid_template_rows": null,
            "height": null,
            "justify_content": null,
            "justify_items": null,
            "left": null,
            "margin": null,
            "max_height": null,
            "max_width": null,
            "min_height": null,
            "min_width": null,
            "object_fit": null,
            "object_position": null,
            "order": null,
            "overflow": null,
            "overflow_x": null,
            "overflow_y": null,
            "padding": null,
            "right": null,
            "top": null,
            "visibility": null,
            "width": null
          }
        }
      }
    }
  },
  "cells": [
    {
      "cell_type": "markdown",
      "metadata": {
        "id": "view-in-github",
        "colab_type": "text"
      },
      "source": [
        "<a href=\"https://colab.research.google.com/github/Rizkifadillah/googlecolab/blob/main/data_science/S2/E5_Decision_Tree_and_Random_Forest.ipynb\" target=\"_parent\"><img src=\"https://colab.research.google.com/assets/colab-badge.svg\" alt=\"Open In Colab\"/></a>"
      ]
    },
    {
      "cell_type": "code",
      "execution_count": null,
      "metadata": {
        "id": "64fhS8vP5qPd"
      },
      "outputs": [],
      "source": [
        "pip install luwiji"
      ]
    },
    {
      "cell_type": "code",
      "source": [
        "from luwiji.random_forest import illustration, demo"
      ],
      "metadata": {
        "id": "Me16v2cr58Tb"
      },
      "execution_count": 4,
      "outputs": []
    },
    {
      "cell_type": "markdown",
      "source": [
        "# *Initialize Data*"
      ],
      "metadata": {
        "id": "NxxUWEzF6XEQ"
      }
    },
    {
      "cell_type": "code",
      "source": [
        "demo.data()"
      ],
      "metadata": {
        "colab": {
          "base_uri": "https://localhost:8080/",
          "height": 374
        },
        "id": "SDr9XgmO6c-W",
        "outputId": "3a6fd140-d472-49d6-99e2-e182e983d72b"
      },
      "execution_count": 5,
      "outputs": [
        {
          "output_type": "display_data",
          "data": {
            "text/plain": [
              "<Figure size 432x432 with 1 Axes>"
            ],
            "image/png": "[encoded data removed]"
          },
          "metadata": {
            "needs_background": "light"
          }
        }
      ]
    },
    {
      "cell_type": "markdown",
      "source": [
        "# *Cara Kerja Decision Tree*"
      ],
      "metadata": {
        "id": "DnqjHlvD6mOd"
      }
    },
    {
      "cell_type": "code",
      "source": [
        "demo.decision_tree()"
      ],
      "metadata": {
        "colab": {
          "base_uri": "https://localhost:8080/",
          "height": 455,
          "referenced_widgets": [
            "fa5268542fbb402ab0c00de074612d4f",
            "6ac418f28b024fe0b7508d3f837cef60",
            "90a73608529b43d399e3c57d03764768",
            "fc036a45934d436ab126d7b00b64134e",
            "c7829b25ccbb40acbe736ed56a853fa3",
            "c415b51b397f42cab15f0bf379a9499e",
            "68259fdf55ad41f29b866981e25e12e8",
            "8ba1cc9118e34ca5aa47a7082eed6268",
            "6482e40f347544d0aef2419a69fa1792",
            "1ec531e456364b6ea9b5e0cf1fcd6a94"
          ]
        },
        "id": "TLC_Oi8w6vvn",
        "outputId": "99259a12-f18b-402c-8c71-1bd4555638f0"
      },
      "execution_count": 8,
      "outputs": [
        {
          "output_type": "display_data",
          "data": {
            "text/plain": [
              "interactive(children=(SelectionSlider(description='decision', index=10, options=(0.08620689655172414, 0.258620…"
            ],
            "application/vnd.jupyter.widget-view+json": {
              "version_major": 2,
              "version_minor": 0,
              "model_id": "fa5268542fbb402ab0c00de074612d4f"
            }
          },
          "metadata": {}
        }
      ]
    },
    {
      "cell_type": "markdown",
      "source": [
        "# *Decision Tree Max Depth*"
      ],
      "metadata": {
        "id": "sLEXuQ6h7eHs"
      }
    },
    {
      "cell_type": "code",
      "source": [
        "demo.max_depth()"
      ],
      "metadata": {
        "colab": {
          "base_uri": "https://localhost:8080/",
          "height": 438,
          "referenced_widgets": [
            "3158358bb22740bb9344ff691ef0b172",
            "ab3547c9c123494c94d951bb62fb3a27",
            "94b44658926d4386baa26d11584c19b1",
            "d8f0584b295d4ac598614c5397ea2842",
            "9e9234ded1974b8c95119cf2bb97e26c",
            "482122b57e174e5e996b09fd8354eee3",
            "0de716dbc81e4d8c9b86b2b0f9675900",
            "313fdbde46964531b75bad8fdb68c105",
            "9d86948e336845b39a6975f3a4e0a090",
            "1fc8fbc4be3f4770ab5abf39212c0a18"
          ]
        },
        "id": "3crx4UAv7l5z",
        "outputId": "694ac1a9-7d7c-4448-ad42-b1d8d73e13a5"
      },
      "execution_count": 9,
      "outputs": [
        {
          "output_type": "display_data",
          "data": {
            "text/plain": [
              "interactive(children=(IntSlider(value=1, description='depth', max=7, min=1), Checkbox(value=False, description…"
            ],
            "application/vnd.jupyter.widget-view+json": {
              "version_major": 2,
              "version_minor": 0,
              "model_id": "3158358bb22740bb9344ff691ef0b172"
            }
          },
          "metadata": {}
        }
      ]
    },
    {
      "cell_type": "code",
      "source": [
        "demo.min_samples_leaf()"
      ],
      "metadata": {
        "colab": {
          "base_uri": "https://localhost:8080/",
          "height": 438,
          "referenced_widgets": [
            "7675fcd0f8ec438dbbebdf483b75c701",
            "2f56efbaeacf40c2b3e454a16327c9aa",
            "02c991b4c4664fb88301e3fe9b475a64",
            "4688864c28704dfaae4d70a81a4e487a",
            "389d02053d9145f08c3eb1927adb1904",
            "ae8de5fe316d4669a5cc45d3323e8208",
            "813ed98445f04a3cac4a2b10c2b96e75",
            "b2726b923d6f4ef1a1ef1dcdd1366048",
            "d56e05bd8a9c4a1d8fc53c297af6f8ed",
            "2810a77e613243309ce1f32261cbda19"
          ]
        },
        "id": "_jT2DKus9F12",
        "outputId": "0f3d9037-6ce9-44d6-f7e1-1bab00b51638"
      },
      "execution_count": 10,
      "outputs": [
        {
          "output_type": "display_data",
          "data": {
            "text/plain": [
              "interactive(children=(IntSlider(value=1, description='depth', max=7, min=1), IntSlider(value=1, description='m…"
            ],
            "application/vnd.jupyter.widget-view+json": {
              "version_major": 2,
              "version_minor": 0,
              "model_id": "7675fcd0f8ec438dbbebdf483b75c701"
            }
          },
          "metadata": {}
        }
      ]
    },
    {
      "cell_type": "markdown",
      "source": [
        "# *Bootstrap*"
      ],
      "metadata": {
        "id": "gM6deSl59BK_"
      }
    },
    {
      "cell_type": "code",
      "source": [
        "demo.bootstrap()"
      ],
      "metadata": {
        "colab": {
          "base_uri": "https://localhost:8080/",
          "height": 438,
          "referenced_widgets": [
            "57835add01c640038f2fccea1a3ee23e",
            "a5d7e27e069c48a6a0c498ed75c33257",
            "98846013f62d4c678a7aada466a6640d",
            "de85ee7e62cb499bae1283e704f3dfd7",
            "33d75d4908254a5891749ef374297c15",
            "c456aa58ba144fc39d842c3e54a693c2",
            "23bcf3f23a5c4b0687367364136d6897",
            "4c45fa9e1de94334ab91352316c2dbaf",
            "69f43dd872ac4db18ab3a11ab697962a",
            "850fdd0e650f46d2a30020bf89a00008"
          ]
        },
        "id": "KsnpwuRH7ktf",
        "outputId": "00c213fe-e58e-4086-8ad3-1f35834bf42a"
      },
      "execution_count": 11,
      "outputs": [
        {
          "output_type": "display_data",
          "data": {
            "text/plain": [
              "interactive(children=(ToggleButton(value=False, description='bootstrap'), ToggleButton(value=False, descriptio…"
            ],
            "application/vnd.jupyter.widget-view+json": {
              "version_major": 2,
              "version_minor": 0,
              "model_id": "57835add01c640038f2fccea1a3ee23e"
            }
          },
          "metadata": {}
        }
      ]
    },
    {
      "cell_type": "markdown",
      "source": [
        "# *Bootstrap Aggregate / Random Forest*"
      ],
      "metadata": {
        "id": "kyFnvCtI-2Sn"
      }
    },
    {
      "cell_type": "code",
      "source": [
        "demo.bagging()"
      ],
      "metadata": {
        "colab": {
          "base_uri": "https://localhost:8080/",
          "height": 471,
          "referenced_widgets": [
            "065beb2ce85b4298ae626be063a63fad",
            "e22ea727768f4503805c3a2aac60d41d",
            "7d7fb047418647138832c5a66a77631a",
            "739e14873d0f4e5c84d76b26f6aa5985",
            "62c240fb72544772874fc03b7724f4bb",
            "ed8f5ca7671f48a697064c01e07b6b66",
            "23b4801e1ab748a19ee8dc0e7f5ce38b",
            "dc79c0c2ceeb4b0f9551028ac8be78e4",
            "5f332e1a7c8e4975b05df801f4b6334a",
            "a6ff54092d2849acb0bc0864abb35b0d",
            "4d4b2a3f541041238514bff361c2c899",
            "c7b0d8404baa4ac2968a223d035afcd7",
            "13d6e67fbca74d9d8783c5d9adc7f0fd"
          ]
        },
        "id": "UhQzdPA7-6dI",
        "outputId": "87daad75-438f-4802-e6dd-04e6ec754f7b"
      },
      "execution_count": 12,
      "outputs": [
        {
          "output_type": "display_data",
          "data": {
            "text/plain": [
              "interactive(children=(IntSlider(value=1, description='n_tree', max=6, min=1), IntSlider(value=1, description='…"
            ],
            "application/vnd.jupyter.widget-view+json": {
              "version_major": 2,
              "version_minor": 0,
              "model_id": "065beb2ce85b4298ae626be063a63fad"
            }
          },
          "metadata": {}
        }
      ]
    },
    {
      "cell_type": "markdown",
      "source": [
        "# *Multivariate?*"
      ],
      "metadata": {
        "id": "H2Hfp7GLAq3q"
      }
    },
    {
      "cell_type": "code",
      "source": [
        "illustration.max_features"
      ],
      "metadata": {
        "colab": {
          "base_uri": "https://localhost:8080/",
          "height": 413
        },
        "id": "YqZ2ndymAwtz",
        "outputId": "80077f6e-1c96-4d42-eccb-68ce884ccbfc"
      },
      "execution_count": 13,
      "outputs": [
        {
          "output_type": "execute_result",
          "data": {
            "image/png": "[encoded data removed]",
            "text/plain": [
              "<IPython.core.display.Image object>"
            ]
          },
          "metadata": {
            "image/png": {
              "width": 800
            }
          },
          "execution_count": 13
        }
      ]
    }
  ]
}